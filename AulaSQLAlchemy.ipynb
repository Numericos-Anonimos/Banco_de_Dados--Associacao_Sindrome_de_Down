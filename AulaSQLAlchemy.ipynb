{
 "cells": [
  {
   "cell_type": "markdown",
   "metadata": {},
   "source": [
    "Aprendi SQLAlchmy com essa aula: \n",
    "\n",
    "<iframe width=\"560\" height=\"315\" src=\"https://www.youtube.com/embed/t4C1c62Z4Ag?si=x03yAe_0dd0Urk8U\" title=\"YouTube video player\" frameborder=\"0\" allow=\"accelerometer; autoplay; clipboard-write; encrypted-media; gyroscope; picture-in-picture; web-share\" referrerpolicy=\"strict-origin-when-cross-origin\" allowfullscreen></iframe>"
   ]
  },
  {
   "cell_type": "markdown",
   "metadata": {},
   "source": [
    "# Core"
   ]
  },
  {
   "cell_type": "code",
   "execution_count": 2,
   "metadata": {},
   "outputs": [],
   "source": [
    "from sqlalchemy import create_engine"
   ]
  },
  {
   "cell_type": "code",
   "execution_count": 3,
   "metadata": {},
   "outputs": [
    {
     "data": {
      "text/plain": [
       "Engine(sqlite://)"
      ]
     },
     "execution_count": 3,
     "metadata": {},
     "output_type": "execute_result"
    }
   ],
   "source": [
    "engine = create_engine(\n",
    "    'sqlite://',\n",
    "    echo=True # Mostra as queries executadas\n",
    ")\n",
    "\n",
    "engine"
   ]
  },
  {
   "cell_type": "code",
   "execution_count": 4,
   "metadata": {},
   "outputs": [
    {
     "data": {
      "text/plain": [
       "<sqlalchemy.dialects.sqlite.pysqlite.SQLiteDialect_pysqlite at 0x25226f33d10>"
      ]
     },
     "execution_count": 4,
     "metadata": {},
     "output_type": "execute_result"
    }
   ],
   "source": [
    "engine.dialect"
   ]
  },
  {
   "cell_type": "code",
   "execution_count": 5,
   "metadata": {},
   "outputs": [
    {
     "data": {
      "text/plain": [
       "<sqlalchemy.engine.base.Connection at 0x252268da900>"
      ]
     },
     "execution_count": 5,
     "metadata": {},
     "output_type": "execute_result"
    }
   ],
   "source": [
    "conection = engine.connect()\n",
    "conection"
   ]
  },
  {
   "cell_type": "code",
   "execution_count": 6,
   "metadata": {},
   "outputs": [
    {
     "data": {
      "text/plain": [
       "<sqlite3.Connection at 0x25226f4ff10>"
      ]
     },
     "execution_count": 6,
     "metadata": {},
     "output_type": "execute_result"
    }
   ],
   "source": [
    "conection.connection.dbapi_connection"
   ]
  },
  {
   "cell_type": "code",
   "execution_count": null,
   "metadata": {},
   "outputs": [],
   "source": [
    "# conection.close()"
   ]
  },
  {
   "cell_type": "code",
   "execution_count": 7,
   "metadata": {},
   "outputs": [
    {
     "data": {
      "text/plain": [
       "<sqlalchemy.pool.impl.SingletonThreadPool at 0x252268da180>"
      ]
     },
     "execution_count": 7,
     "metadata": {},
     "output_type": "execute_result"
    }
   ],
   "source": [
    "# Poll: Guarda as conexões para serem reutilizadas, acelerando a execução\n",
    "engine.pool"
   ]
  },
  {
   "cell_type": "code",
   "execution_count": 10,
   "metadata": {},
   "outputs": [
    {
     "data": {
      "text/plain": [
       "'SingletonThreadPool id:2551857389952 size: 1'"
      ]
     },
     "execution_count": 10,
     "metadata": {},
     "output_type": "execute_result"
    }
   ],
   "source": [
    "engine.pool.status()"
   ]
  },
  {
   "cell_type": "code",
   "execution_count": null,
   "metadata": {},
   "outputs": [],
   "source": [
    "from sqlalchemy import text\n",
    "\n",
    "with engine.connect() as con:\n",
    "    with con.begin(): # Inicia uma transação, isso garante que o resultado seja consistente. Caso ocorra um erro em qualquer parte do código, toda a transação é desfeita\n",
    "        con.execute(text('CREATE TABLE test (id INTEGER PRIMARY KEY, name VARCHAR)'))\n",
    "        con.execute(text('INSERT INTO test (name) VALUES (\"Teste\")'))\n",
    "        con.execute(text('INSERT INTO test (name) VALUES (\"Teste 2\")'))\n",
    "        con.execute(text('INSERT INTO test (name) VALUES (\"Teste 3\")'))"
   ]
  },
  {
   "cell_type": "code",
   "execution_count": 14,
   "metadata": {},
   "outputs": [
    {
     "name": "stdout",
     "output_type": "stream",
     "text": [
      "(1, 'Teste')\n",
      "(2, 'Teste 2')\n",
      "(3, 'Teste 3')\n"
     ]
    }
   ],
   "source": [
    "with engine.connect() as con:\n",
    "    rs = con.execute(text('SELECT * FROM test'))\n",
    "    for row in rs:\n",
    "        print(row)"
   ]
  },
  {
   "cell_type": "code",
   "execution_count": null,
   "metadata": {},
   "outputs": [],
   "source": [
    "# O rs é um objeto do tipo Result. Voce pode pegar os dados de várias formas:\n",
    "# rs.fetone() -> Retorna a primeira linha\n",
    "# rs.fetcmany(x) / rs.partitions(x) -> Retorna x linhas\n",
    "# rs.fetchall() / rs.all() -> Retorna todas as linhas\n",
    "# rs.first() -> Retorna a primeira linha, mas se não houver nenhuma não dá erro\t\n",
    "# Existem muitos outros métodos, veja a documentação"
   ]
  },
  {
   "cell_type": "code",
   "execution_count": 16,
   "metadata": {},
   "outputs": [],
   "source": [
    "import sqlalchemy as sa"
   ]
  },
  {
   "cell_type": "code",
   "execution_count": 17,
   "metadata": {},
   "outputs": [
    {
     "data": {
      "text/plain": [
       "MetaData()"
      ]
     },
     "execution_count": 17,
     "metadata": {},
     "output_type": "execute_result"
    }
   ],
   "source": [
    "metadata = sa.MetaData()\n",
    "metadata"
   ]
  },
  {
   "cell_type": "code",
   "execution_count": 18,
   "metadata": {},
   "outputs": [],
   "source": [
    "t = sa.Table('Comentarios', metadata,\n",
    "            sa.Column('id', sa.Integer(), nullable=False),\n",
    "            sa.Column('usuario', sa.String(50), nullable=False),\n",
    "            sa.Column('comentario', sa.String(200), nullable=False),\n",
    "            sa.Column('live_id', sa.Integer()),\n",
    "            sa.Column('data', sa.DateTime(), nullable=False),\n",
    "            sa.PrimaryKeyConstraint('id')\n",
    ")"
   ]
  },
  {
   "cell_type": "code",
   "execution_count": 20,
   "metadata": {},
   "outputs": [],
   "source": [
    "engine2 = create_engine('sqlite:///database.db')\n",
    "metadata.create_all(engine2)"
   ]
  },
  {
   "cell_type": "code",
   "execution_count": 22,
   "metadata": {},
   "outputs": [
    {
     "name": "stdout",
     "output_type": "stream",
     "text": [
      "['Comentarios']\n",
      "[{'name': 'id', 'type': INTEGER(), 'nullable': False, 'default': None, 'primary_key': 1}, {'name': 'usuario', 'type': VARCHAR(length=50), 'nullable': False, 'default': None, 'primary_key': 0}, {'name': 'comentario', 'type': VARCHAR(length=200), 'nullable': False, 'default': None, 'primary_key': 0}, {'name': 'live_id', 'type': INTEGER(), 'nullable': True, 'default': None, 'primary_key': 0}, {'name': 'data', 'type': DATETIME(), 'nullable': False, 'default': None, 'primary_key': 0}]\n"
     ]
    }
   ],
   "source": [
    "inspect = sa.inspect(engine2)\n",
    "print(inspect.get_table_names())\n",
    "print(inspect.get_columns('Comentarios'))"
   ]
  },
  {
   "cell_type": "code",
   "execution_count": 24,
   "metadata": {},
   "outputs": [
    {
     "data": {
      "text/plain": [
       "Table('Comentarios', MetaData(), Column('id', Integer(), table=<Comentarios>, primary_key=True, nullable=False), Column('usuario', String(length=50), table=<Comentarios>, nullable=False), Column('comentario', String(length=200), table=<Comentarios>, nullable=False), Column('live_id', Integer(), table=<Comentarios>), Column('data', DateTime(), table=<Comentarios>, nullable=False), schema=None)"
      ]
     },
     "execution_count": 24,
     "metadata": {},
     "output_type": "execute_result"
    }
   ],
   "source": [
    "t2 = sa.Table('Comentarios', metadata, autoload_with=engine2)\n",
    "t2"
   ]
  },
  {
   "cell_type": "code",
   "execution_count": 26,
   "metadata": {},
   "outputs": [
    {
     "name": "stdout",
     "output_type": "stream",
     "text": [
      "SELECT \"Comentarios\".id, \"Comentarios\".usuario, \"Comentarios\".comentario, \"Comentarios\".live_id, \"Comentarios\".data \n",
      "FROM \"Comentarios\"\n"
     ]
    }
   ],
   "source": [
    "sql = sa.select(t2)\n",
    "print(sql)"
   ]
  },
  {
   "cell_type": "code",
   "execution_count": 27,
   "metadata": {},
   "outputs": [],
   "source": [
    "with engine2.connect() as con:\n",
    "    rs = con.execute(sql)\n",
    "    for row in rs:\n",
    "        print(row)"
   ]
  },
  {
   "cell_type": "code",
   "execution_count": 30,
   "metadata": {},
   "outputs": [
    {
     "name": "stdout",
     "output_type": "stream",
     "text": [
      "SELECT \"Comentarios\".id, \"Comentarios\".usuario, \"Comentarios\".comentario, \"Comentarios\".live_id, \"Comentarios\".data \n",
      "FROM \"Comentarios\" \n",
      "WHERE \"Comentarios\".usuario = :usuario_1 OR \"Comentarios\".usuario = :usuario_2 AND \"Comentarios\".data > :data_1 ORDER BY \"Comentarios\".data\n"
     ]
    }
   ],
   "source": [
    "# O select é um builder, você pode encadear vários métodos para montar a query\n",
    "sql = (\n",
    "    sa.select(t2)\n",
    "    .where(\n",
    "        (t2.c.usuario == 'João Assaoka')\n",
    "        | (t2.c.usuario == 'Maria Assaoka')\n",
    "        & (t2.c.data > '2021-01-01')\n",
    "    )    \n",
    "    .order_by(t2.c.data)\n",
    ")\n",
    "print(sql)"
   ]
  },
  {
   "cell_type": "code",
   "execution_count": 37,
   "metadata": {},
   "outputs": [
    {
     "name": "stdout",
     "output_type": "stream",
     "text": [
      "INSERT INTO \"Comentarios\" (id, usuario, comentario, live_id, data) VALUES (:id, :usuario, :comentario, :live_id, :data)\n"
     ]
    }
   ],
   "source": [
    "from datetime import datetime\n",
    "\n",
    "sql = (\n",
    "    sa.insert(t2)\n",
    "    .values(\n",
    "        id=1,\n",
    "        usuario='João Assaoka',\n",
    "        comentario='Teste',\n",
    "        live_id=1,\n",
    "        data=datetime.now()\n",
    "    )\n",
    ")\n",
    "print(sql)"
   ]
  },
  {
   "cell_type": "code",
   "execution_count": 41,
   "metadata": {},
   "outputs": [],
   "source": [
    "with engine2.connect() as con:\n",
    "    with con.begin():\n",
    "        con.execute(sql)"
   ]
  },
  {
   "cell_type": "code",
   "execution_count": 42,
   "metadata": {},
   "outputs": [
    {
     "name": "stdout",
     "output_type": "stream",
     "text": [
      "(1, 'João Assaoka', 'Teste', 1, datetime.datetime(2025, 1, 3, 14, 59, 17, 658346))\n"
     ]
    }
   ],
   "source": [
    "with engine2.connect() as con:\n",
    "    rs = con.execute(sa.select(t2))\n",
    "    for row in rs:\n",
    "        print(row)"
   ]
  },
  {
   "cell_type": "code",
   "execution_count": 45,
   "metadata": {},
   "outputs": [
    {
     "name": "stdout",
     "output_type": "stream",
     "text": [
      "UPDATE \"Comentarios\" SET usuario=:usuario WHERE \"Comentarios\".id = :id_1\n"
     ]
    }
   ],
   "source": [
    "sql = (\n",
    "    sa.update(t2)\n",
    "    .where(t2.c.id == 1)\n",
    "    .values(usuario='Daniela Musa')\n",
    ")\n",
    "\n",
    "print(sql)"
   ]
  },
  {
   "cell_type": "code",
   "execution_count": 44,
   "metadata": {},
   "outputs": [
    {
     "name": "stdout",
     "output_type": "stream",
     "text": [
      "(1, 'Daniela Musa', 'Teste', 1, datetime.datetime(2025, 1, 3, 14, 59, 17, 658346))\n"
     ]
    }
   ],
   "source": [
    "with engine2.connect() as con:\n",
    "    with con.begin():\n",
    "        con.execute(sql)\n",
    "    \n",
    "    with con.begin():\n",
    "        rs = con.execute(sa.select(t2))\n",
    "        for row in rs:\n",
    "            print(row)"
   ]
  },
  {
   "cell_type": "markdown",
   "metadata": {},
   "source": [
    "# ORM"
   ]
  },
  {
   "cell_type": "code",
   "execution_count": 54,
   "metadata": {},
   "outputs": [],
   "source": [
    "from sqlalchemy import Column, Integer, String, DateTime, func\n",
    "from sqlalchemy.orm import DeclarativeBase, Mapped, mapped_column, registry\n",
    "from datetime import datetime\n",
    "\n",
    "\"\"\"class Base (DeclarativeBase):\n",
    "    pass\n",
    "\n",
    "# Voce pode criar com ou sem notação de tipos\n",
    "class Comentario(Base):\n",
    "    __tablename__ = 'Comentarios'\n",
    "\n",
    "    id: Mapped[int] = mapped_column(primary_key=True)\n",
    "    usuario: Mapped[str]\n",
    "    comentario: Mapped[str]\n",
    "    live_id: Mapped[int]\n",
    "    data: Mapped[datetime] = mapped_column(server_default=func.now())\n",
    "\n",
    "# Sem notação de tipos\n",
    "class Comentario(Base):\n",
    "    __tablename__ = 'Comentarios'\n",
    "\n",
    "    id = Column(Integer, primary_key=True)\n",
    "    usuario = Column(String(50), nullable=False)\n",
    "    comentario = Column(String(200), nullable=False)\n",
    "    live_id = Column(Integer, nullable=False)\n",
    "    data = Column(DateTime, server_default=func.now())\"\"\"\n",
    "    \n",
    "\n",
    "# Podemos ainda criar assim:\n",
    "reg = registry()\n",
    "@reg.mapped_as_dataclass\n",
    "class Comentario:\n",
    "    __tablename__ = 'Comentarios'\n",
    "\n",
    "    id: Mapped[int] = mapped_column(init=False, primary_key=True)\n",
    "    usuario: Mapped[str]\n",
    "    comentario: Mapped[str]\n",
    "    live_id: Mapped[int]\n",
    "    data: Mapped[datetime] = mapped_column(init=False, server_default=func.now())\n",
    "\n",
    "# Existe ainda uma outra forma chamada Automap, que mapeia automaticamente as tabelas do banco de dados para classes. Olhe a documentação para mais informações"
   ]
  },
  {
   "cell_type": "code",
   "execution_count": 55,
   "metadata": {},
   "outputs": [],
   "source": [
    "reg.metadata.create_all(engine2)\n",
    "# Se usar as outras, chamar o create_all do Base: Base.metadata.create_all(engine2)"
   ]
  },
  {
   "cell_type": "code",
   "execution_count": 56,
   "metadata": {},
   "outputs": [
    {
     "name": "stdout",
     "output_type": "stream",
     "text": [
      "Comentario(id=1, usuario='Daniela Musa', comentario='Teste', live_id=1, data=datetime.datetime(2025, 1, 3, 14, 59, 17, 658346))\n"
     ]
    }
   ],
   "source": [
    "from sqlalchemy.orm import Session\n",
    "\n",
    "with Session(engine2) as s:\n",
    "    result = s.scalar(sa.select(Comentario).where(Comentario.usuario == 'Daniela Musa'))\n",
    "    print(result)"
   ]
  },
  {
   "cell_type": "code",
   "execution_count": 57,
   "metadata": {},
   "outputs": [
    {
     "name": "stdout",
     "output_type": "stream",
     "text": [
      "Comentario(id=1, usuario='João Assaoka', comentario='Teste', live_id=1, data=datetime.datetime(2025, 1, 3, 14, 59, 17, 658346))\n"
     ]
    }
   ],
   "source": [
    "with Session(engine2) as s:\n",
    "    result = s.scalar(sa.select(Comentario).where(Comentario.usuario == 'Daniela Musa'))\n",
    "    \n",
    "    # result é um objeto do tipo Comentario, podemos mexer nele como se fosse um objeto normal\n",
    "    result.usuario = 'João Assaoka'\n",
    "    s.commit()\n",
    "\n",
    "with Session(engine2) as s:\n",
    "    result = s.scalars(sa.select(Comentario))\n",
    "    for r in result:\n",
    "        print(r)"
   ]
  },
  {
   "cell_type": "code",
   "execution_count": null,
   "metadata": {},
   "outputs": [],
   "source": [
    "# É possível alterar todo o codigo para assincrono, basta mudar algumas importações. Caso queira saber mais, veja a documentação"
   ]
  }
 ],
 "metadata": {
  "kernelspec": {
   "display_name": "base",
   "language": "python",
   "name": "python3"
  },
  "language_info": {
   "codemirror_mode": {
    "name": "ipython",
    "version": 3
   },
   "file_extension": ".py",
   "mimetype": "text/x-python",
   "name": "python",
   "nbconvert_exporter": "python",
   "pygments_lexer": "ipython3",
   "version": "3.12.7"
  }
 },
 "nbformat": 4,
 "nbformat_minor": 2
}
